{
 "cells": [
  {
   "cell_type": "markdown",
   "metadata": {
    "slideshow": {
     "slide_type": "slide"
    }
   },
   "source": [
    "# Understanding Object Oriented Languages by Building One\n",
    "\n",
    "Let’s try to build an embedded programming language to play with (and hopefully understand a thing or two about) object-orientation.\n",
    "\n",
    "## Showing my hands\n",
    "\n",
    "In order to make the code more readable, I introduce a small set of helpers to leverage our host language (Python here), yet make the result very readable."
   ]
  },
  {
   "cell_type": "code",
   "execution_count": 1,
   "metadata": {
    "slideshow": {
     "slide_type": "skip"
    }
   },
   "outputs": [],
   "source": [
    "# Syntactic sugar: access elements of the dictionary with the same syntax than attributes\n",
    "class MagicDict:\n",
    "    def __init__(self, d):\n",
    "        self._d = d\n",
    "    def __getattr__(self, attr):\n",
    "        if attr == \"_d\":\n",
    "            super().__getattr__(attr)\n",
    "            return\n",
    "        return self._d[attr]\n",
    "    def __setattr__(self, attr, value):\n",
    "        if attr == \"_d\":\n",
    "            super().__setattr__(attr, value)\n",
    "            return\n",
    "        if attr not in self._d:\n",
    "            raise Exception(\"No such key \" + attr)\n",
    "        self._d[attr] = value\n",
    "    def __str__(self):\n",
    "        return str(self._d)"
   ]
  },
  {
   "cell_type": "markdown",
   "metadata": {
    "slideshow": {
     "slide_type": "slide"
    }
   },
   "source": [
    "## Misconception 1: Classes as Namespaces\n",
    "\n",
    "Let’s create a simple logging package, with a Log class, and a few static methods to define multiple levels of verbosity.\n",
    "\n",
    "We now have a pretty (ish) way of running code, namely `log.info`, but is this any different than using a prefix (e.g. `log_info`)?"
   ]
  },
  {
   "cell_type": "code",
   "execution_count": 2,
   "metadata": {
    "slideshow": {
     "slide_type": "fragment"
    }
   },
   "outputs": [
    {
     "name": "stdout",
     "output_type": "stream",
     "text": [
      "INFO a class is not a namespace!\n",
      "INFO a prefix would do just as well…\n"
     ]
    }
   ],
   "source": [
    "class Log:\n",
    "    \"A class misused as namespace\"\n",
    "    @staticmethod\n",
    "    def info(message):\n",
    "        print(\"INFO\", message)\n",
    "    @staticmethod\n",
    "    def error(message):\n",
    "        print(\"ERROR\", message)\n",
    "\n",
    "def log_info(message):\n",
    "    print(\"INFO\", message)\n",
    "def log_error(message):\n",
    "    print(\"ERROR\", message)\n",
    "    \n",
    "Log.info(\"a class is not a namespace!\")\n",
    "log_info(\"a prefix would do just as well…\")"
   ]
  },
  {
   "cell_type": "markdown",
   "metadata": {
    "slideshow": {
     "slide_type": "subslide"
    }
   },
   "source": [
    "Sometimes, classes are created to be simple “bags” of information – bundling together different datum. While the problem might require exactly this approach, be aware that this introduces a lot of boilerplate code (repetitive, and adding very little value).\n",
    "\n",
    "A better alternative, if your language allows it, is to use a plain and simple dictionary."
   ]
  },
  {
   "cell_type": "code",
   "execution_count": 4,
   "metadata": {
    "slideshow": {
     "slide_type": "fragment"
    }
   },
   "outputs": [
    {
     "name": "stdout",
     "output_type": "stream",
     "text": [
      "{'name': 'John Doe', 'age': 23}\n",
      "{'name': 'Jack the Ripper', 'age': 23}\n"
     ]
    }
   ],
   "source": [
    "class Person:\n",
    "    \"A bag of values\"\n",
    "    def __init__(self, name, age):\n",
    "        self._name = name\n",
    "        self._age = age\n",
    "    def setName(self, name):\n",
    "        self._name = name\n",
    "    def getName(self):\n",
    "        return self._name\n",
    "    def setAge(self, age):\n",
    "        self._age = age\n",
    "    def getAge(self):\n",
    "        return self._age\n",
    "    def __str__(self):\n",
    "        return str({\"name\": self._name, \"age\": self._age})\n",
    "    \n",
    "John = Person(\"John Doe\", 21)\n",
    "John.setAge(23)\n",
    "print(John)\n",
    "\n",
    "# note that I do not need to define anything.\n",
    "Jack = {\"name\": \"Jack the Ripper\", \"age\": 21}\n",
    "Jack[\"age\"] = 23\n",
    "print(Jack)"
   ]
  },
  {
   "cell_type": "markdown",
   "metadata": {
    "slideshow": {
     "slide_type": "slide"
    }
   },
   "source": [
    "## Misconception 2: Object-Orientation Deals with Information Hiding (aka Encapsulation)"
   ]
  },
  {
   "cell_type": "markdown",
   "metadata": {
    "slideshow": {
     "slide_type": "notes"
    }
   },
   "source": [
    "Information hiding has multiple meanings, so let’s get one out of the way: in \"Enterprise\" programming, team jealously keep tight control over their code and limit interactions with other pieces of the program. Much could be said about this attitude, and how it relates to the functioning of an organisation, but there is also an acute, technical problem: when sharing memory, there is simply no boundary that can be enforced — therefore, those `private` keywords are just documentation (sometimes enforced by the compiler, but easy to defeat at runtime).\n",
    "\n",
    "Another, more interesting, feature of information hiding is to provide abstraction (meaning users can work at a higher level, and do not need to keep in mind at all times the lower-levels details). Let us look at the (archetypical) example of the counter: a value that can only be incremented (the `inc` method), and inspected (the `count` one). I’ll implement this by using a closure over a number:"
   ]
  },
  {
   "cell_type": "code",
   "execution_count": 8,
   "metadata": {
    "slideshow": {
     "slide_type": "fragment"
    }
   },
   "outputs": [
    {
     "data": {
      "text/plain": [
       "1"
      ]
     },
     "execution_count": 8,
     "metadata": {},
     "output_type": "execute_result"
    }
   ],
   "source": [
    "def Counter():\n",
    "    \"A closure encapsulate our state\"\n",
    "    count = 0\n",
    "    def inc():\n",
    "        nonlocal count\n",
    "        count += 1\n",
    "    def pcount():\n",
    "        return count\n",
    "    return MagicDict({\n",
    "        \"inc\": inc,\n",
    "        \"count\": pcount,\n",
    "    })\n",
    "\n",
    "c1 = Counter()\n",
    "c1.inc()\n",
    "c1.count()"
   ]
  },
  {
   "cell_type": "markdown",
   "metadata": {
    "slideshow": {
     "slide_type": "notes"
    }
   },
   "source": [
    "Now, for fun and profit, let’s augment the closure by also implementing the way to decrease the value (the `decr` method)."
   ]
  },
  {
   "cell_type": "code",
   "execution_count": 9,
   "metadata": {
    "slideshow": {
     "slide_type": "subslide"
    }
   },
   "outputs": [
    {
     "name": "stdout",
     "output_type": "stream",
     "text": [
      "Counter 1\n",
      "Gauge 0\n"
     ]
    }
   ],
   "source": [
    "def Gauge():\n",
    "    count = 0\n",
    "    def inc():\n",
    "        nonlocal count\n",
    "        count += 1\n",
    "    def decr():\n",
    "        nonlocal count\n",
    "        if count > 0:\n",
    "            count -= 1\n",
    "    def pcount():\n",
    "        return count\n",
    "    return MagicDict({\n",
    "        \"inc\": inc,\n",
    "        \"count\": pcount,\n",
    "        \"decr\": decr,\n",
    "    })\n",
    "\n",
    "def MyServer(counter):\n",
    "    \"starts a new server, and count the requests\"\n",
    "    counter.inc()\n",
    "    \n",
    "c = Counter()\n",
    "MyServer(c)\n",
    "print(\"Counter\", c.count())\n",
    "\n",
    "g = Gauge()\n",
    "MyServer(g)\n",
    "g.decr()\n",
    "print(\"Gauge\", g.count())"
   ]
  },
  {
   "cell_type": "markdown",
   "metadata": {
    "slideshow": {
     "slide_type": "notes"
    }
   },
   "source": [
    "Note the call to `inc`, _independent_ of the underlying closure / implementation behind it; so that the `MyServer` function is able to use *both* a gauge and a counter.\n",
    "\n",
    "Our implementation uses something called “dynamic dispatch”, meaning that, at runtime, the dictionary returned by either the `Gauge` or `Counter` function is iterated until the right method is found (by matching its name), then executed. Other languages will be able to detect at compile time which code path to dispatch to (called “static dispatch”), and some will be able to accelerate dynamic dispatch between calls (“inline caching”)."
   ]
  },
  {
   "cell_type": "markdown",
   "metadata": {
    "slideshow": {
     "slide_type": "slide"
    }
   },
   "source": [
    "## Lets Start Baking\n",
    "\n",
    "Now comes the real fun: building our own dispatch system, and therefore our object-oriented mini language. Say hello to Cookie!\n",
    "\n",
    "We will use facilities of the Python programing language to make our life easier: ours is an “embedded” programming language, but note that nothing in what we use depends on having an object-oriented language to start from (i.e. there is no magic).\n",
    "\n",
    "Cookie will allow to define new type of cookies, and execute functions on said cookies by using the `do` method. "
   ]
  },
  {
   "cell_type": "code",
   "execution_count": 11,
   "metadata": {
    "slideshow": {
     "slide_type": "slide"
    }
   },
   "outputs": [
    {
     "name": "stdout",
     "output_type": "stream",
     "text": [
      "ButterCookie:cooking at 100°\n",
      "ChocolateCookie:cooking at 90°\n"
     ]
    }
   ],
   "source": [
    "class Cookie:\n",
    "    \"\"\"Cookies are delicious mix of fat and sugar.\n",
    "\n",
    "    We can do many things with them, so define your own and what you like to `do` with your cookies.\n",
    "    \"\"\"\n",
    "    def __str__(self):\n",
    "        return self._name\n",
    "    \n",
    "    def __init__(self, name, operations):\n",
    "        \"init creates a new cookie type, with associated operations\"\n",
    "        self._name = name\n",
    "        self._operations = operations\n",
    "        \n",
    "    def do(self, op, *args):\n",
    "        \"do execute the requested operation, possibly with arguments\"\n",
    "        if not op in self._operations:\n",
    "            raise Exception(\"no such operation\", op)\n",
    "        return self._operations[op](*args)\n",
    "\n",
    "# very simple method, returning a constant value\n",
    "def bake_butter():\n",
    "    \"I like to bake at a constant temperature\"\n",
    "    return \"cooking at 100°\"\n",
    "\n",
    "# also simple method, but the value depends on the input.\n",
    "def bake_chocolate(color):\n",
    "    \"I like to do things differently, based on the type of chocolate\"\n",
    "    if color == \"white\":\n",
    "        return \"cooking at 90°\"\n",
    "    else:\n",
    "        return \"cooking at 80°\"\n",
    "\n",
    "c1 = Cookie(\"ButterCookie\", {\"bake\": bake_butter})\n",
    "c2 = Cookie(\"ChocolateCookie\", {\"bake\": bake_chocolate})\n",
    "print(f'{c1}:{c1.do(\"bake\")}')\n",
    "print(f'{c2}:{c2.do(\"bake\", \"white\")}')"
   ]
  },
  {
   "cell_type": "markdown",
   "metadata": {
    "slideshow": {
     "slide_type": "notes"
    }
   },
   "source": [
    "But, wait! This is cheating: we currently have only methods that act on their parameters (static methods). How do we also attach values to it (like we did in our counter example)?\n",
    "\n",
    "Lets add values to the cookie at construction time, and make an automated setter and getter since we are at it (in case you did not notice, I am not a big fan of having to define those manually)."
   ]
  },
  {
   "cell_type": "code",
   "execution_count": 13,
   "metadata": {
    "slideshow": {
     "slide_type": "slide"
    }
   },
   "outputs": [
    {
     "name": "stdout",
     "output_type": "stream",
     "text": [
      "baking 2.4000000000000004 minutes\n",
      "baking 3.5999999999999996 minutes\n"
     ]
    }
   ],
   "source": [
    "class Cookie2:\n",
    "    def __str__(self):\n",
    "        return self._name\n",
    "    \n",
    "    def __init__(self, name, operations, values):\n",
    "        self._name = name\n",
    "        self._values = values\n",
    "        self._operations = operations\n",
    "        \n",
    "    def do(self, op, *args):\n",
    "        \"Do executes the operation. If it starts with setXXX / getXXX, it automatically accesses the value with the name\"\n",
    "        if op.startswith(\"set\"):\n",
    "            self._values[op[3:].lower()] = args[0]\n",
    "        elif op.startswith(\"get\"):\n",
    "            return self._values[op[3:].lower()]\n",
    "        else:\n",
    "            if not op in self._operations:\n",
    "                raise Exception(\"no such operation\", op)\n",
    "            return self._operations[op](self, *args)\n",
    "        \n",
    "def bake_nuts(self):\n",
    "    return \"baking \" + str(self.do(\"getWeight\") * 12) + \" minutes\"\n",
    "\n",
    "nCookie = Cookie2(\"Nuts cookie\", {\"bake\": bake_nuts}, {\"weight\": 0.2})\n",
    "print(nCookie.do(\"bake\"))\n",
    "nCookie.do(\"setWeight\", 0.3)\n",
    "print(nCookie.do(\"bake\"))"
   ]
  },
  {
   "cell_type": "markdown",
   "metadata": {
    "slideshow": {
     "slide_type": "notes"
    }
   },
   "source": [
    "Cooking one cookie at a time is OK, but a bit … limited, right? (OK, Javascript stops here, but why should we?) Let's make many cookies at a time, using the tool for the job.\n",
    "\n",
    "** For those (youngsters) of you who did not get the joke, Javascript initially provided only a form of object-orientation called “prototype”, where objects are the only concepts (no classes). Those languages have mostly disappeared since they are really, really hard to optimize – classes make it much easier to share code, minimizing the impact on memory, cache friendliness, …"
   ]
  },
  {
   "cell_type": "code",
   "execution_count": 17,
   "metadata": {
    "slideshow": {
     "slide_type": "slide"
    }
   },
   "outputs": [
    {
     "name": "stdout",
     "output_type": "stream",
     "text": [
      "I am a MacadamiaCookie cookie, with white chocolate, baked at 30\n",
      "I am a MacadamiaCookie cookie, with dark chocolate, baked at 100\n"
     ]
    }
   ],
   "source": [
    "class cookie:\n",
    "    \"\"\"cookie is a helper class to give us the do/set/get methods\n",
    "    \n",
    "    Note the trick: a cookie always defers to the cuttter for the actual implementation of the methods, but has local values\"\"\"\n",
    "    def __str__(self):\n",
    "        return self._cutter.printCookie()\n",
    "\n",
    "    def __init__(self, cutter, attr):\n",
    "        self._cutter = cutter\n",
    "        self._values = attr\n",
    "        \n",
    "    def do(self, op, *args):\n",
    "        if op.startswith(\"set\"):\n",
    "            self._values[op[3:].lower()] = args[0]\n",
    "        elif op.startswith(\"get\"):\n",
    "            return self._values[op[3:].lower()]\n",
    "        else:\n",
    "            return self._cutter.do(self, op)\n",
    "\n",
    "class CookieCutter:\n",
    "    def __str__(self):\n",
    "        return self._name + \" cutter\"\n",
    "    \n",
    "    def __init__(self, name, operations):\n",
    "        self._name = name\n",
    "        self._operations = operations\n",
    "        \n",
    "    def do(self, cookie, op, *args):\n",
    "        if not op in self._operations:\n",
    "            raise Exception(\"no such operation\", op)\n",
    "        return self._operations[op](cookie, *args)\n",
    "    \n",
    "    def printCookie(self):\n",
    "        return \"I am a \" + self._name + \" cookie\"\n",
    "    \n",
    "    def newCookie(self, attr):\n",
    "        c = cookie(self, attr)\n",
    "        return c\n",
    "\n",
    "def bake_macadamia(cookie):\n",
    "    if cookie.do(\"getColor\") == \"white\":\n",
    "        return str(30)\n",
    "    else:\n",
    "        return str(100)\n",
    "\n",
    "macadamiaCookieCutter = CookieCutter(\"MacadamiaCookie\", {\"bake\": bake_macadamia})\n",
    "noonCookie = macadamiaCookieCutter.newCookie({\"color\": \"white\"})\n",
    "midnightCookie = macadamiaCookieCutter.newCookie({\"color\": \"dark\"})\n",
    "\n",
    "print(f\"{noonCookie}, with {noonCookie.do('getColor')} chocolate, baked at {noonCookie.do('bake')}\")\n",
    "print(f\"{midnightCookie}, with {midnightCookie.do('getColor')} chocolate, baked at {midnightCookie.do('bake')}\")"
   ]
  },
  {
   "cell_type": "markdown",
   "metadata": {},
   "source": [
    "## Implementing inheritance\n",
    "\n",
    "Taking further the concept of code (or rather, cookie) re-use, we can extend the cutters so that they can also enlist the help of other cutters, who might know how to do some jobs.\n",
    "\n",
    "Those cutters might, in turn rely on some methods from their own ancestors cutters, or indeed their children ones (typically called “abstract” methods in static languages.)"
   ]
  },
  {
   "cell_type": "code",
   "execution_count": 23,
   "metadata": {},
   "outputs": [
    {
     "name": "stdout",
     "output_type": "stream",
     "text": [
      "I am looking at a delicious MacadamiaCookie cookie, baked at 30. Temptation is strong.\n"
     ]
    }
   ],
   "source": [
    "class CookieCutter:\n",
    "    def __str__(self):\n",
    "        return self._name + \" cutter\"\n",
    "    \n",
    "    def __init__(self, name, operations, helpers):\n",
    "        self._name = name\n",
    "        self._operations = operations\n",
    "        self._helpers = helpers\n",
    "        \n",
    "    def do(self, cookie, op, *args):\n",
    "        if not op in self._operations:\n",
    "            for helper in self._helpers:\n",
    "                try:\n",
    "                    return helper.do(cookie, op, *args)\n",
    "                except:\n",
    "                    pass\n",
    "            raise Exception(\"no such operation\", op)\n",
    "        return self._operations[op](cookie, *args)\n",
    "    \n",
    "    def printCookie(self):\n",
    "        return self._name + \" cookie\"\n",
    "    \n",
    "    def newCookie(self, attr):\n",
    "        c = cookie(self, attr)\n",
    "        return c\n",
    "\n",
    "def contemplate(cookie):\n",
    "    return f\"I am looking at a delicious {cookie}, baked at {cookie.do('bake')}. Temptation is strong.\"\n",
    "\n",
    "nutsCookieCutter = CookieCutter(\"NutsCookie\", {\"contemplate\": contemplate}, [])\n",
    "macadamiaCookieCutter = CookieCutter(\"MacadamiaCookie\", {\"bake\": bake_macadamia}, [nutsCookieCutter])\n",
    "noonCookie = macadamiaCookieCutter.newCookie({\"color\": \"white\"})\n",
    "\n",
    "print(noonCookie.do('contemplate'))"
   ]
  },
  {
   "cell_type": "markdown",
   "metadata": {},
   "source": [
    "### Exercise:\n",
    "What happens when multiple parents (or children) implement the same operation?"
   ]
  },
  {
   "cell_type": "markdown",
   "metadata": {},
   "source": [
    "# Parametric dispatch\n",
    "\n",
    "We had some fun having the code jump around between cutters, both up and down the hierarchy. But it is also possible to chose where to dispatch code based on the value of the arguments. This is not commonly encountered at the language-level (you have to manually encode it), and renders most optimizations possible. But the form is fairly useful when implementing domain-specific dispatch."
   ]
  }
 ],
 "metadata": {
  "celltoolbar": "Slideshow",
  "interpreter": {
   "hash": "aee8b7b246df8f9039afb4144a1f6fd8d2ca17a180786b69acc140d282b71a49"
  },
  "kernelspec": {
   "display_name": "Python 3.9.7 64-bit",
   "name": "python3"
  },
  "language_info": {
   "codemirror_mode": {
    "name": "ipython",
    "version": 3
   },
   "file_extension": ".py",
   "mimetype": "text/x-python",
   "name": "python",
   "nbconvert_exporter": "python",
   "pygments_lexer": "ipython3",
   "version": "3.9.7"
  }
 },
 "nbformat": 4,
 "nbformat_minor": 2
}
