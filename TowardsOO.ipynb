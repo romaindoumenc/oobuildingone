{
 "cells": [
  {
   "cell_type": "markdown",
   "metadata": {
    "slideshow": {
     "slide_type": "slide"
    }
   },
   "source": [
    "# Understanding Object Oriented Languages by Building One\n",
    "Many misconceptions about object-oriented programming exist, which often lead to sub-optimal code in expressiveness and maintanability. Unfortunately, the source of all Truth (Wikipedia) has only a very general description of the pattern, and does not help understand the core value of this paradigm.\n",
    "\n",
    "This tutorial aims at showing the core concepts of OO, and how it can be leveraged to build extensible and powerful systems.\n",
    "\n",
    "After identifying a few common concepts (incorrectly) associated with object oriented programs, we will build a fully functional object-oriented language, with classes, inheritance and multiple dispatch."
   ]
  },
  {
   "cell_type": "code",
   "execution_count": 1,
   "metadata": {
    "slideshow": {
     "slide_type": "skip"
    }
   },
   "outputs": [],
   "source": [
    "# Syntactic sugar: access elements of the dictionary with the same syntax than attributes\n",
    "class MagicDict:\n",
    "    def __init__(self, d):\n",
    "        self._d = d\n",
    "    def __getattr__(self, attr):\n",
    "        if attr == \"_d\":\n",
    "            super().__getattr__(attr)\n",
    "            return\n",
    "        return self._d[attr]\n",
    "    def __setattr__(self, attr, value):\n",
    "        if attr == \"_d\":\n",
    "            super().__setattr__(attr, value)\n",
    "            return\n",
    "        if attr not in self._d:\n",
    "            raise Exception(\"No such key \" + attr)\n",
    "        self._d[attr] = value\n",
    "    def __str__(self):\n",
    "        return str(self._d)"
   ]
  },
  {
   "cell_type": "markdown",
   "metadata": {
    "slideshow": {
     "slide_type": "slide"
    }
   },
   "source": [
    "## Misconception 1: Classes as Namespaces\n"
   ]
  },
  {
   "cell_type": "markdown",
   "metadata": {
    "slideshow": {
     "slide_type": "notes"
    }
   },
   "source": [
    "A sure way to spot misunderstanding about object orientation is to look at a logging class: the class will be full of static methods! What the programmer is trying to achieve is prefixing functions calls (i.e. `log.error`), which does not need object orientation features.\n",
    "\n",
    "Namespaces are much better provided as modules or packages (if the language supports them), or with a simple prefix (for example C)."
   ]
  },
  {
   "cell_type": "code",
   "execution_count": 2,
   "metadata": {
    "slideshow": {
     "slide_type": "fragment"
    }
   },
   "outputs": [
    {
     "name": "stdout",
     "output_type": "stream",
     "text": [
      "INFO a class is not a namespace!\n",
      "INFO a prefix would do just as well…\n"
     ]
    }
   ],
   "source": [
    "class Log:\n",
    "    \"A class misused as namespace\"\n",
    "    @staticmethod\n",
    "    def info(message):\n",
    "        print(\"INFO\", message)\n",
    "    @staticmethod\n",
    "    def error(message):\n",
    "        print(\"ERROR\", message)\n",
    "\n",
    "def log_info(message):\n",
    "    print(\"INFO\", message)\n",
    "def log_error(message):\n",
    "    print(\"ERROR\", message)\n",
    "    \n",
    "Log.info(\"a class is not a namespace!\")\n",
    "log_info(\"a prefix would do just as well…\")"
   ]
  },
  {
   "cell_type": "markdown",
   "metadata": {
    "slideshow": {
     "slide_type": "subslide"
    }
   },
   "source": [
    "A variant of this pattern is a class with only values — or even worse, with plainly redundant getters and setters."
   ]
  },
  {
   "cell_type": "code",
   "execution_count": 3,
   "metadata": {
    "slideshow": {
     "slide_type": "fragment"
    }
   },
   "outputs": [
    {
     "name": "stdout",
     "output_type": "stream",
     "text": [
      "{'name': 'John Doe', 'age': 23}\n",
      "{'name': 'Jack the Ripper', 'age': 23}\n"
     ]
    }
   ],
   "source": [
    "class Person:\n",
    "    \"A bag of values\"\n",
    "    def __init__(self, name, age):\n",
    "        self._name = name\n",
    "        self._age = age\n",
    "    def setName(self, name):\n",
    "        self._name = name\n",
    "    def getName(self):\n",
    "        return self._name\n",
    "    def setAge(self, age):\n",
    "        self._age = age\n",
    "    def getAge(self):\n",
    "        return self._age\n",
    "    def __str__(self):\n",
    "        return str({\"name\": self._name, \"age\": self._age})\n",
    "    \n",
    "John = Person(\"John Doe\", 21)\n",
    "John.setAge(23)\n",
    "print(John)\n",
    "\n",
    "Jack = MagicDict({\"name\": \"Jack the Ripper\", \"age\": 21})\n",
    "Jack.age = 23\n",
    "print(Jack)"
   ]
  },
  {
   "cell_type": "markdown",
   "metadata": {
    "slideshow": {
     "slide_type": "slide"
    }
   },
   "source": [
    "## Misconception 2: Object-Orientation Deals with Information Hiding (aka Encapsulation)"
   ]
  },
  {
   "cell_type": "markdown",
   "metadata": {
    "slideshow": {
     "slide_type": "notes"
    }
   },
   "source": [
    "Information hiding has multiple meanings, and is often associated with \"Enterprise\" programming, where team jealously keep tight control over their code and limit interactions with other pieces of code. Lets put that thought aside by reminding that, as long as the memory is shared, there is simply no boundary that can be enforced — therefore, those `private` keywords are basically just documentation.\n",
    "\n",
    "Hiding the details of the implementation, and therefore allowing users of the library to work at a higher level of abstraction is indeed a useful feature, and deserves more attention. Let us look at the (archetypical) example of the counter: a value that can only be modified through an `inc` method, and inspected through a `count` one. This example can completely be implemented by a simple closure over the variable."
   ]
  },
  {
   "cell_type": "code",
   "execution_count": 28,
   "metadata": {
    "slideshow": {
     "slide_type": "fragment"
    }
   },
   "outputs": [
    {
     "data": {
      "text/plain": [
       "1"
      ]
     },
     "execution_count": 28,
     "metadata": {},
     "output_type": "execute_result"
    }
   ],
   "source": [
    "def Counter():\n",
    "    \"A closure encapsulate our state\"\n",
    "    count = 0\n",
    "    def add():\n",
    "        nonlocal count\n",
    "        count += 1\n",
    "    def pcount():\n",
    "        return count\n",
    "    return MagicDict({\n",
    "        \"add\": add,\n",
    "        \"count\": pcount,\n",
    "    })\n",
    "\n",
    "c1 = Counter()\n",
    "c1.add()\n",
    "c1.count()"
   ]
  },
  {
   "cell_type": "markdown",
   "metadata": {
    "slideshow": {
     "slide_type": "notes"
    }
   },
   "source": [
    "This example is showing an interesting promise though: what if we want to start using a gauge (i.e. a counter that can go both up and down)? It looks like we can continue apply the same technique.\n"
   ]
  },
  {
   "cell_type": "code",
   "execution_count": 5,
   "metadata": {
    "slideshow": {
     "slide_type": "subslide"
    }
   },
   "outputs": [
    {
     "name": "stdout",
     "output_type": "stream",
     "text": [
      "Counter 1\n",
      "Gauge 0\n"
     ]
    }
   ],
   "source": [
    "def Gauge():\n",
    "    count = 0\n",
    "    def add():\n",
    "        nonlocal count\n",
    "        count += 1\n",
    "    def decr():\n",
    "        nonlocal count\n",
    "        if count > 0:\n",
    "            count -= 1\n",
    "    def pcount():\n",
    "        return count\n",
    "    return MagicDict({\n",
    "        \"add\": add,\n",
    "        \"count\": pcount,\n",
    "        \"decr\": decr,\n",
    "    })\n",
    "\n",
    "def MyServer(counter):\n",
    "    \"starts a new server, and count the requests\"\n",
    "    counter.add()\n",
    "    \n",
    "c = Counter()\n",
    "MyServer(c)\n",
    "print(\"Counter\", c.count())\n",
    "\n",
    "g = Gauge()\n",
    "MyServer(g)\n",
    "g.decr()\n",
    "print(\"Gauge\", g.count())"
   ]
  },
  {
   "cell_type": "markdown",
   "metadata": {
    "slideshow": {
     "slide_type": "notes"
    }
   },
   "source": [
    "What is nice here, is the the call to `add` is _independent_ of the underlying closure / implementation behind it; and that the `MyServer` definition accepts *both* a gauge and a counter — this is called dynamic dispatch, and is a very powerful implementation of the critical concept of abstraction of implementation (cf B.Liskov)."
   ]
  },
  {
   "cell_type": "markdown",
   "metadata": {
    "slideshow": {
     "slide_type": "slide"
    }
   },
   "source": [
    "## Lets Start Baking\n",
    "Now that we have understood that the single most interesting feature of object orientation is the dynamic dispatch, which allow to execute a different piece of code each time it is called.\n",
    "\n",
    "Now comes the real fun: building our own dispatch system, and therefore our object-oriented mini language. Say hello to Cookie!"
   ]
  },
  {
   "cell_type": "code",
   "execution_count": 6,
   "metadata": {
    "slideshow": {
     "slide_type": "slide"
    }
   },
   "outputs": [
    {
     "name": "stdout",
     "output_type": "stream",
     "text": [
      "ButterCookie:cooking at 100° ChocolateCookie:cooking at 90°\n"
     ]
    }
   ],
   "source": [
    "class Cookie:  # class is used to pretty-print only!\n",
    "    def __str__(self):\n",
    "        return self._name\n",
    "    \n",
    "    def __init__(self, name, operations):\n",
    "        self._name = name\n",
    "        self._operations = operations\n",
    "        \n",
    "    def do(self, op, *args):\n",
    "        if not op in self._operations:\n",
    "            raise Exception(\"no such operation\", op)\n",
    "        return self._operations[op](*args)\n",
    "\n",
    "def bake_butter():\n",
    "    return \"cooking at 100°\"\n",
    "\n",
    "def bake_chocolate(color):\n",
    "    if color == \"white\":\n",
    "        return \"cooking at 90°\"\n",
    "    else:\n",
    "        return \"cooking at 80°\"\n",
    "\n",
    "c1 = Cookie(\"ButterCookie\", {\"bake\": bake_butter})\n",
    "c2 = Cookie(\"ChocolateCookie\", {\"bake\": bake_chocolate})\n",
    "print(str(c1) + \":\" + c1.do(\"bake\"), str(c2) + \":\" + c2.do(\"bake\", \"white\"))"
   ]
  },
  {
   "cell_type": "markdown",
   "metadata": {
    "slideshow": {
     "slide_type": "notes"
    }
   },
   "source": [
    "But, wait! This is cheating: we currently have only methods that act on their parameters (static methods). This is loosing all the encapsulation power we have in the closure!\n",
    "\n",
    "Lets add values to the cookie, and make an automated setter and getter since we are at it."
   ]
  },
  {
   "cell_type": "code",
   "execution_count": 42,
   "metadata": {
    "slideshow": {
     "slide_type": "slide"
    }
   },
   "outputs": [
    {
     "name": "stdout",
     "output_type": "stream",
     "text": [
      "baking 2.4000000000000004 minutes\n",
      "baking 3.5999999999999996 minutes\n"
     ]
    }
   ],
   "source": [
    "class Cookie2:\n",
    "    def __str__(self):\n",
    "        return self._name\n",
    "    \n",
    "    def __init__(self, name, operations, values):\n",
    "        self._name = name\n",
    "        self._values = values\n",
    "        self._operations = operations\n",
    "        \n",
    "    def do(self, op, *args):\n",
    "        if op.startswith(\"set\"):\n",
    "            self._values[op[3:].lower()] = args[0]\n",
    "        elif op.startswith(\"get\"):\n",
    "            return self._values[op[3:].lower()]\n",
    "        else:\n",
    "            if not op in self._operations:\n",
    "                raise Exception(\"no such operation\", op)\n",
    "            return self._operations[op](self, *args)\n",
    "        \n",
    "def bake_nuts(self):\n",
    "    return \"baking \" + str(self.do(\"getWeight\") * 12) + \" minutes\"\n",
    "\n",
    "nCookie = Cookie2(\"Nuts cookie\", {\"bake\": bake_nuts}, {\"weight\": 0.2})\n",
    "print(nCookie.do(\"bake\"))\n",
    "nCookie.do(\"setWeight\", 0.3)\n",
    "print(nCookie.do(\"bake\"))"
   ]
  },
  {
   "cell_type": "markdown",
   "metadata": {
    "slideshow": {
     "slide_type": "notes"
    }
   },
   "source": [
    "Cooking one cookie at a time is OK, but a bit … limited, right? (OK, Javascript stops here, but why should we?) Let's make many cookies at a time, using the tool for the job."
   ]
  },
  {
   "cell_type": "code",
   "execution_count": 24,
   "metadata": {
    "slideshow": {
     "slide_type": "slide"
    }
   },
   "outputs": [],
   "source": [
    "class cookie:\n",
    "    def __str__(self):\n",
    "        return self._cutter.printCookie()\n",
    "\n",
    "    def __init__(self, cutter, attr):\n",
    "        self._cutter = cutter\n",
    "        self._values = attr\n",
    "        \n",
    "    def do(self, op):\n",
    "        if op.startswith(\"set\"):\n",
    "            self._values[op[3:].lower()] = args[0]\n",
    "        elif op.startswith(\"get\"):\n",
    "            return self._values[op[3:].lower()]\n",
    "        else:\n",
    "            return self._cutter.do(self, op)"
   ]
  },
  {
   "cell_type": "code",
   "execution_count": 26,
   "metadata": {
    "slideshow": {
     "slide_type": "subslide"
    }
   },
   "outputs": [
    {
     "name": "stdout",
     "output_type": "stream",
     "text": [
      "I am a MacadamiaCookie cookie I am a MacadamiaCookie cookie\n",
      "white\n",
      "dark\n",
      "30 100\n"
     ]
    }
   ],
   "source": [
    "class CookieCutter:\n",
    "    def __str__(self):\n",
    "        return self._name + \" cutter\"\n",
    "    \n",
    "    def __init__(self, name, operations):\n",
    "        self._name = name\n",
    "        self._operations = operations\n",
    "        \n",
    "    def do(self, cookie, op, *args):\n",
    "        if not op in self._operations:\n",
    "            raise Exception(\"no such operation\", op)\n",
    "        return self._operations[op](cookie, *args)\n",
    "    \n",
    "    def printCookie(self):\n",
    "        return \"I am a \" + self._name + \" cookie\"\n",
    "    \n",
    "    def newCookie(self, attr):\n",
    "        c = cookie(self, attr)\n",
    "        return c\n",
    "\n",
    "def bake_macadamia(cookie):\n",
    "    if cookie.do(\"getColor\") == \"white\":\n",
    "        return str(30)\n",
    "    else:\n",
    "        return str(100)\n",
    "\n",
    "macadamiaCookieCutter = CookieCutter(\"MacadamiaCookie\", {\"bake\": bake_macadamia})\n",
    "noonCookie = macadamiaCookieCutter.newCookie({\"color\": \"white\"})\n",
    "midnightCookie = macadamiaCookieCutter.newCookie({\"color\": \"dark\"})\n",
    "\n",
    "print(str(noonCookie) , str(midnightCookie))\n",
    "print(noonCookie.do(\"bake\"), midnightCookie.do(\"bake\"))"
   ]
  },
  {
   "cell_type": "markdown",
   "metadata": {
    "slideshow": {
     "slide_type": "notes"
    }
   },
   "source": [
    "- inheritance\n",
    "- parameters dispatch"
   ]
  },
  {
   "cell_type": "code",
   "execution_count": null,
   "metadata": {},
   "outputs": [],
   "source": []
  }
 ],
 "metadata": {
  "celltoolbar": "Slideshow",
  "kernelspec": {
   "display_name": "Python 3",
   "language": "python",
   "name": "python3"
  },
  "language_info": {
   "codemirror_mode": {
    "name": "ipython",
    "version": 3
   },
   "file_extension": ".py",
   "mimetype": "text/x-python",
   "name": "python",
   "nbconvert_exporter": "python",
   "pygments_lexer": "ipython3",
   "version": "3.6.3"
  }
 },
 "nbformat": 4,
 "nbformat_minor": 2
}
